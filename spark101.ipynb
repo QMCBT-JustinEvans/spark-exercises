{
 "cells": [
  {
   "cell_type": "markdown",
   "id": "de12ab53",
   "metadata": {},
   "source": [
    "# Spark Exercises\n",
    "Using the repo setup directions, setup a new local and remote repository named ```spark-exercises```. \n",
    "The local version of your repo should live inside of ```~/codeup-data-science```. \n",
    "This repo should be named ```spark-exercises```\n",
    "\n",
    "Save this work in your ```spark-exercises``` repo. Then add, commit, and push your changes.\n",
    "\n",
    "Create a jupyter notebook or python script named ```spark101``` for this exercise."
   ]
  },
  {
   "cell_type": "markdown",
   "id": "e7a6dd18",
   "metadata": {},
   "source": [
    "## 1. Create a spark data frame that contains your favorite programming languages.\n",
    "* The name of the column should be ```language```\n",
    "* View the schema of the dataframe\n",
    "* Output the shape of the dataframe\n",
    "* Show the first 5 records in the dataframe"
   ]
  },
  {
   "cell_type": "markdown",
   "id": "80f26104",
   "metadata": {},
   "source": [
    "## 2. Load the ```mpg``` dataset as a spark dataframe.\n",
    "* Create 1 column of output that contains a message like the one below:  \n",
    "    ```The 1999 audi a4 has a 4 cylinder engine.```\n",
    "* For each vehicle.  \n",
    "    Transform the ```trans``` column so that it only contains either ```manual``` or ```auto```."
   ]
  },
  {
   "cell_type": "markdown",
   "id": "52c6d541",
   "metadata": {},
   "source": [
    "## 3. Load the ```tips``` dataset as a spark dataframe.\n",
    "a. What percentage of observations are smokers?\n",
    "b. Create a column that contains the tip percentage\n",
    "c. Calculate the average tip percentage for each combination of sex and smoker."
   ]
  },
  {
   "cell_type": "markdown",
   "id": "43b75bff",
   "metadata": {},
   "source": [
    "## 4. Use the seattle weather dataset referenced in the lesson to answer the questions below.\n",
    "* Convert the temperatures to fahrenheit.\n",
    "* Which month has the most rain, on average?\n",
    "* Which year was the windiest?\n",
    "* What is the most frequent type of weather in January?\n",
    "* What is the average high and low temperature on sunny days in July in 2013 and 2014?\n",
    "* What percentage of days were rainy in q3 of 2015?\n",
    "* For each year, find what percentage of days it rained (had non-zero precipitation)."
   ]
  },
  {
   "cell_type": "code",
   "execution_count": null,
   "id": "3b5016cd",
   "metadata": {},
   "outputs": [],
   "source": []
  }
 ],
 "metadata": {
  "kernelspec": {
   "display_name": "Python 3 (ipykernel)",
   "language": "python",
   "name": "python3"
  },
  "language_info": {
   "codemirror_mode": {
    "name": "ipython",
    "version": 3
   },
   "file_extension": ".py",
   "mimetype": "text/x-python",
   "name": "python",
   "nbconvert_exporter": "python",
   "pygments_lexer": "ipython3",
   "version": "3.9.12"
  }
 },
 "nbformat": 4,
 "nbformat_minor": 5
}
